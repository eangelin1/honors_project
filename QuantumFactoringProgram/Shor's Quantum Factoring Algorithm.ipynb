{
  "cells": [
    {
      "cell_type": "code",
      "execution_count": 2,
      "metadata": {
        "trusted": true
      },
      "outputs": [],
      "source": "# Appendix A\n# Shor's Quantum Factoring Algorithm\n\n# Adapted from https://github.com/ttlion/ShorAlgQiskit/blob/master/Shor_Normal_QFT.py\n# Based on Polynomial time algorithms for discrete logarithms and factoring on a quantum computer by P. Shor 1994\n\n# Takes integer input from user which is the product of two primes\n# Finds a random a where 1 < a < N and a is coprime with N\n# Applies quantum phase estimation to find phase\n# Gets r from phase = s/r\n# Uses r to find factors of or numbers that share a factor with N"
    },
    {
      "cell_type": "code",
      "execution_count": 3,
      "metadata": {
        "trusted": true
      },
      "outputs": [],
      "source": "# Importing standard Qiskit libraries and configuring account\nfrom qiskit import QuantumCircuit, QuantumRegister, ClassicalRegister, execute, Aer, IBMQ, BasicAer\nfrom qiskit.compiler import transpile, assemble\nfrom qiskit.providers.ibmq import least_busy\nfrom qiskit.tools.jupyter import *\nfrom qiskit.visualization import *\n\nfrom random import randint\nimport math\nfrom time import time\nimport numpy as np\nimport fractions\nfrom fractions import Fraction\n\n%matplotlib inline"
    },
    {
      "cell_type": "code",
      "execution_count": 4,
      "metadata": {
        "trusted": true
      },
      "outputs": [],
      "source": "# Returns modular inverse of a mod m\n# Returns 1 otherwise\ndef modinv(a, m) : \n    a = a % m; \n    for x in range(1, m) : \n        if ((a * x) % m == 1) : \n            return x \n    return 1"
    },
    {
      "cell_type": "code",
      "execution_count": 5,
      "metadata": {
        "trusted": true
      },
      "outputs": [],
      "source": "# Check if N is a perfect power\n# Perfect power N = q^p\ndef check_if_power(N):\n    b=2\n    while (2**b) <= N:\n        a = 1\n        c = N\n        while (c-a) >= 2:\n            m = int( (a+c)/2 )\n\n            if (m**b) < (N+1):\n                p = int( (m**b) )\n            else:\n                p = int(N+1)\n\n            if int(p) == int(N):\n                print('N is {0}^{1}'.format(int(m),int(b)) )\n                return True\n\n            if p<N:\n                a = int(m)\n            else:\n                c = int(m)\n        b=b+1\n\n    return False"
    },
    {
      "cell_type": "code",
      "execution_count": 6,
      "metadata": {
        "trusted": true
      },
      "outputs": [],
      "source": "# Returns a | 1 < a < N\ndef get_value_a(N):\n    a = randint(2, N-1)\n    \n    while math.gcd(a,N)!=1:\n        a = randint(2, N-1)\n        \n    return a"
    },
    {
      "cell_type": "code",
      "execution_count": 7,
      "metadata": {
        "trusted": true
      },
      "outputs": [],
      "source": "def get_angles(a, bitlen):\n    s = bin(int(a))[2:].zfill(bitlen)\n    angles = np.zeros(bitlen)\n    for i in range(0, bitlen):\n        for j in range(i,bitlen):\n            if s[j] == '1':\n                angles[bitlen-i-1]+=math.pow(2, -(j-i))\n        angles[bitlen-i-1]*=np.pi\n    return angles"
    },
    {
      "cell_type": "code",
      "execution_count": 8,
      "metadata": {
        "trusted": true
      },
      "outputs": [],
      "source": "# Doubly controlled U gate\ndef ccphase(qc, angle, ctl1, ctl2, tgt):\n    qc.cu1(angle/2, ctl1, tgt)\n    qc.cx(ctl2, ctl1)\n    qc.cu1(-angle/2, ctl1, tgt)\n    qc.cx(ctl2, ctl1)\n    qc.cu1(angle, ctl2, tgt)"
    },
    {
      "cell_type": "code",
      "execution_count": 9,
      "metadata": {
        "trusted": true
      },
      "outputs": [],
      "source": "# Adds classical to quantum register\ndef phiADD(qc, q_reg, a, bitlen, inv):\n    angles = get_angles(a, bitlen)\n    for i in range(bitlen-1):\n        if inv == 0:\n            qc.u1(angles[i], q_reg[i])\n        else:\n            qc.u1(-angles[i], q_reg[i])"
    },
    {
      "cell_type": "code",
      "execution_count": 10,
      "metadata": {
        "trusted": true
      },
      "outputs": [],
      "source": "# Controlled phiADD gate\ndef cphiADD(qc, q_reg, ctl, a, bitlen, inv):\n    angles = get_angles(a, bitlen)\n    for i in range(bitlen):\n        if inv == 0:\n            qc.cu1(angles[i], ctl, q_reg[i])\n        else:\n            qc.cu1(-angles[i], ctl, q_reg[i])\n    "
    },
    {
      "cell_type": "code",
      "execution_count": 11,
      "metadata": {
        "trusted": true
      },
      "outputs": [],
      "source": "# Doubly controlled phiADD gate\ndef ccphiADD(qc, q_reg, ctl1, ctl2, a, bitlen, inv):\n    angles = get_angles(a, bitlen)\n    for i in range(bitlen):\n        if inv == 0:\n            ccphase(qc, angles[i], ctl1, ctl2, q_reg[i])\n        else:\n            ccphase(qc, -angles[i], ctl1, ctl2, q_reg[i])"
    },
    {
      "cell_type": "code",
      "execution_count": 12,
      "metadata": {
        "trusted": true
      },
      "outputs": [],
      "source": "# Applies QFT to specified quantum register \n# Will also swap qubits if specified\ndef qft(qc, q_reg, bitlen, swaps):\n    i=bitlen-1\n    # Apply the H gates and Cphases\n    while i>=0:\n        qc.h(q_reg[i])        \n        j=i-1  \n        while j>=0:\n            if (np.pi)/(pow(2,(i-j))) > 0:\n                qc.cu1( (np.pi)/(pow(2,(i-j))) , q_reg[i] , q_reg[j] )\n                j=j-1   \n        i=i-1 \n        \n    # Apply swaps\n    if swaps==1:\n        i=0\n        while i < ((bitlen-1)/2):\n            circuit.swap(q_reg[i], q_reg[bitlen-1-i])\n            i=i+1"
    },
    {
      "cell_type": "code",
      "execution_count": 13,
      "metadata": {
        "trusted": true
      },
      "outputs": [],
      "source": "# Applies inverse QFT to specified quantum register\n# Will swap qubits if specified\ndef qft_inv(qc, q_reg, bitlen, swaps):\n    # If specified, apply the Swaps at the beginning\n    if swaps==1:\n        i=0\n        while i < ((bitlen-1)/2):\n            qc.swap(q_reg[i], q_reg[bitlen-1-i])\n            i=i+1\n    # Apply the H gates and Cphases\n    i=0\n    while i<bitlen:\n        qc.h(q_reg[i])\n        if i != bitlen-1:\n            j=i+1\n            y=i\n            while y>=0:\n                 if (np.pi)/(pow(2,(j-y))) > 0:\n                    qc.cu1( - (np.pi)/(pow(2,(j-y))) , q_reg[j] , q_reg[y] )\n                    y=y-1   \n        i=i+1"
    },
    {
      "cell_type": "code",
      "execution_count": 14,
      "metadata": {
        "trusted": true
      },
      "outputs": [],
      "source": "# Doubly controlled phiADDmodN gate\n# Adds a to q_reg only if ctl1 and ctl2 are | 1 >\n# Then applies inverse phiADD to subtract N from the quantum register\ndef ccphiADDmodN(qc, q_reg, ctl1, ctl2, aux, a, N, bitlen):\n    ccphiADD(qc, q_reg, ctl1, ctl2, a, bitlen, 0)\n    phiADD(qc, q_reg, N, bitlen, 1)\n    qft_inv(qc, q_reg, bitlen, 0)\n    qc.cx(q_reg[bitlen-1], aux)\n    qft(qc, q_reg, bitlen, 0)\n    cphiADD(qc, q_reg, aux, N, bitlen, 0)\n    \n    ccphiADD(qc, q_reg, ctl1, ctl2, a, bitlen, 1)\n    qft_inv(qc, q_reg, bitlen, 0)\n    qc.x(q_reg[bitlen-1])\n    qc.cx(q_reg[bitlen-1], aux)\n    qc.x(q_reg[bitlen-1])\n    qft(qc, q_reg, bitlen, 0)\n    ccphiADD(qc, q_reg, ctl1, ctl2, a, bitlen, 0)"
    },
    {
      "cell_type": "code",
      "execution_count": 15,
      "metadata": {
        "trusted": true
      },
      "outputs": [],
      "source": "# Inverse of above\n# Will only apply if both ctl1 and ctl2 are | 1 >\ndef ccphiADDmodN_inv(qc, q_reg, ctl1, ctl2, aux, a, N, bitlen):\n    ccphiADD(qc, q_reg, ctl1, ctl2, a, bitlen, 1)\n    qft_inv(qc, q_reg, bitlen, 0)\n    qc.x(q_reg[bitlen-1])\n    qc.cx(q_reg[bitlen-1],aux)\n    qc.x(q_reg[bitlen-1])\n    qft(qc, q_reg, bitlen, 0)\n    ccphiADD(qc, q_reg, ctl1, ctl2, a, bitlen, 0)\n    cphiADD(qc, q_reg, aux, N, bitlen, 1)\n    qft_inv(qc, q_reg, bitlen, 0)\n    qc.cx(q_reg[bitlen-1], aux)\n    qft(qc, q_reg, bitlen, 0)\n    phiADD(qc, q_reg, N, bitlen, 0)\n    ccphiADD(qc, q_reg, ctl1, ctl2, a, bitlen, 1)"
    },
    {
      "cell_type": "code",
      "execution_count": 16,
      "metadata": {
        "trusted": true
      },
      "outputs": [],
      "source": "# The U gate that is applied to the quantum register\ndef cMULTmodN(qc, ctl, q_reg, aux, a, N, bitlen):\n    qft(qc, aux, bitlen+1, 0)\n    \n    for i in range(0, bitlen):\n        ccphiADDmodN(qc, aux, q_reg[i], ctl, aux[bitlen+1], (2**i)*a % N, N, bitlen+1)\n        \n    qft_inv(qc, aux, bitlen+1, 0)\n    \n    for i in range(0, bitlen):\n        qc.cswap(ctl, q_reg[i], aux[i])\n        \n    a_inv = modinv(a, N)\n    \n    qft(qc, aux, bitlen+1, 0)\n    i = bitlen-1\n    while i >= 0:\n        ccphiADDmodN_inv(qc, aux, q_reg[i], ctl, aux[bitlen+1], math.pow(2,i)*a_inv % N, N, bitlen+1)\n        i -= 1\n    qft_inv(qc, aux, bitlen+1, 0)\n"
    },
    {
      "cell_type": "code",
      "execution_count": 17,
      "metadata": {
        "trusted": true
      },
      "outputs": [],
      "source": "# Initializes quantum circuit and applies quantum phase estimation\n'''\n                                     ______\n     |0> -H------------ ... ---O----|      |-m-\n     |0> -H-------O---- ... ---|----|      |-m-\n| a >|0> -H-----O-|---- ... ---|----|      |-m-\n                | |      .     |    |QFT^-1|\n                | |      .     |    |      |\n                | |      .     |    |      |\n     |0> -H---O-|-|---- ... ---|----|      |-m-\n     |0> -H-O-|-|-|---- ... ---|----|______|-m-\n            | | | |            |\n            | | | |            |\n| b >|1> ---U-U-U-U---- ... ---U---------------\n\n'''\n# Circuit will look like the above once this function is called\ndef qpe(a, N, bitlen):\n    \n    # Auxilliary quantum register used in addition and multiplication\n    aux = QuantumRegister(bitlen+2)\n    \n    # Quantum register where the sequential QFT is performed\n    a_reg = QuantumRegister(2*bitlen)\n    \n    # Quantum register where the multiplications are made\n    b_reg = QuantumRegister(bitlen)\n    \n    # Classical register where the measured values of the QFT are stored\n    classic = ClassicalRegister(2*bitlen)\n\n    # Quantum circuit initialization\n    qc = QuantumCircuit(b_reg , a_reg , aux, classic)\n    \n    # Initialize down register to 1 and create maximal superposition in top register\n    qc.h(a_reg)\n    qc.x(b_reg[0])\n\n    # Apply U gates\n    for i in range(0, 2*bitlen):\n        cMULTmodN(qc, a_reg[i], b_reg, aux, int(pow(a, pow(2, i))), N, bitlen)\n\n    # Apply inverse QFT\n    qft_inv(qc, a_reg, 2*bitlen, 1)\n\n    # Measure top register to get value\n    qc.measure(a_reg, classic)\n    \n    # Return circuit\n    return qc"
    },
    {
      "cell_type": "code",
      "execution_count": 18,
      "metadata": {
        "trusted": true
      },
      "outputs": [],
      "source": "def shor(N):\n\n    time_i = time()\n    \n    while True:\n    \n        # Step 1-3: \n        # Get random a, coprime with N\n        # Determine if gcd is trivial\n        \n        a = get_value_a(N)\n\n        # Get n value used in Shor's algorithm, to know how many qubits are used\n        bitlen = math.ceil(math.log(N,2))\n\n        # Create quantum circuit and apply QPE\n\n        qc = qpe(a, N, bitlen)\n\n        \n        # Step 4\n        # Once it is determined that QPE is necessary,\n        # run simulation of circuit\n        # Simulation will output phase = s/r\n        \n\n        device = provider.get_backend('ibmq_16_melbourne')\n        backend = Aer.get_backend('qasm_simulator')\n        simulation = execute(qc, backend, shots=1, memory=True)\n        result = simulation.result()\n        readings = result.get_memory()\n\n        # Get period r from the fraction s/r\n        \n        phase = int(readings[0],2)/(2**bitlen)\n\n        frac = Fraction(phase).limit_denominator(15)\n        \n        # Can skip continued fractions since python is able to split \n        # a decimal into its numerator and denominator\n        \n        s, r = frac.numerator, frac.denominator\n        \n        guesses = [math.gcd(a**(r//2)-1, N), math.gcd(a**(r//2)+1, N)]\n        \n\n        if (guesses[0] != 1 and guesses[0] != N):\n            print(\"\\n\\tNon-trivial factors found: %i and %i\" % (guesses[0], (N/guesses[0])))\n            break\n        elif (guesses[1] != 1 and guesses[1] != N):\n            print(\"\\n\\tNon-trivial factors found: %i and %i\" % (guesses[1], (N/guesses[1])))\n            break\n        else:\n            print(\"\\n\\tFound trivial guesses %i and %i\" % (guesses[0], guesses[1]))\n            print(\"\\tRestarting circuit...\\n\")\n        \n    \n    time_f = time()\n    time_delta = time_f - time_i\n    \n    print(\"\\n\\tAlgorithm took: %f seconds\" % time_delta)\n    return time_delta"
    },
    {
      "cell_type": "code",
      "execution_count": 19,
      "metadata": {
        "scrolled": false,
        "trusted": true
      },
      "outputs": [
        {
          "name": "stdout",
          "output_type": "stream",
          "text": "--------------------\nAppendix A\nOutput for Shor's Quantum Factorization Algorithm\n\n\nPlease input integer number N: 21\nHow many times to run: 10\n\n\n****************\nRun # 1\n\n\tNon-trivial factors found: 3 and 7\n\n\tAlgorithm took: 115.337805 seconds\n\n\n****************\nRun # 2\n\n\tNon-trivial factors found: 3 and 7\n\n\tAlgorithm took: 114.771893 seconds\n\n\n****************\nRun # 3\n\n\tNon-trivial factors found: 3 and 7\n\n\tAlgorithm took: 113.745415 seconds\n\n\n****************\nRun # 4\n\n\tFound trivial guesses 1 and 21\n\tRestarting circuit...\n\n\n\tFound trivial guesses 21 and 1\n\tRestarting circuit...\n\n\n\tNon-trivial factors found: 3 and 7\n\n\tAlgorithm took: 354.691870 seconds\n\n\n****************\nRun # 5\n\n\tFound trivial guesses 21 and 1\n\tRestarting circuit...\n\n\n\tNon-trivial factors found: 3 and 7\n\n\tAlgorithm took: 229.087610 seconds\n\n\n****************\nRun # 6\n\n\tFound trivial guesses 21 and 1\n\tRestarting circuit...\n\n\n\tNon-trivial factors found: 3 and 7\n\n\tAlgorithm took: 231.016513 seconds\n\n\n****************\nRun # 7\n\n\tNon-trivial factors found: 3 and 7\n\n\tAlgorithm took: 110.125149 seconds\n\n\n****************\nRun # 8\n\n\tNon-trivial factors found: 3 and 7\n\n\tAlgorithm took: 112.217148 seconds\n\n\n****************\nRun # 9\n\n\tNon-trivial factors found: 3 and 7\n\n\tAlgorithm took: 114.158274 seconds\n\n\n****************\nRun # 10\n\n\tFound trivial guesses 21 and 1\n\tRestarting circuit...\n\n\n\tFound trivial guesses 21 and 1\n\tRestarting circuit...\n\n\n\tFound trivial guesses 21 and 1\n\tRestarting circuit...\n\n\n\tNon-trivial factors found: 3 and 7\n\n\tAlgorithm took: 454.777352 seconds\n\nAverage time per run: 194.992903\nStandard Deviation: 116.370945\nDone.\n--------------------\n"
        }
      ],
      "source": "if __name__ == '__main__':\n    \n    print(\"--------------------\")\n    print(\"Appendix A\")\n    print(\"Output for Shor's Quantum Factorization Algorithm\\n\\n\")\n\n\n    \n    provider = IBMQ.load_account()\n\n    # User enters number {N | N != 1, N != 0, N != q^p}\n\n    while True:\n        N = int(input(\"Please input integer number N: \"))\n\n        # Ask for N again if N equals 1 or 0\n\n        if N==1 or N==0: \n            print(\"Please put an N different from 0 and from 1\")\n            continue\n\n        # Also if N can be put in N=p^q, p>1, q>=2\n\n        if check_if_power(N)==True:\n            continue\n\n        break\n    \n    # Initialize variables\n    times = []\n    runs = int(input(\"How many times to run: \"))\n    sums = 0\n    \n    # Runs factoring algorithm a number of times\n    # Gets total amount of time\n    # Saves individual time per run for later\n    for i in range(runs):\n        print(\"\\n\\n****************\\nRun # %i\" % (i+1))\n        time_to_run = shor(N)\n        sums += time_to_run\n        times.append(time_to_run)\n    \n    # Average amount of time per run\n    avg = sums/runs\n    # Sum of deviations from average\n    devsum = 0\n\n    for item in times:\n        # Calculates square of each deviation\n        dev = (avg - item)**2\n        # Stores sum of squares\n        devsum += dev\n\n    # Gets the square of the average of the deviations\n    # Calculates standard deviation\n    avg_sq = devsum/runs    \n    standard_dev = avg_sq**(1/2) \n        \n    \n    print(\"\\nAverage time per run: %f\" % (avg))\n    print(\"Standard Deviation: %f\" % standard_dev)\n    \n    print(\"Done.\")\n    print(\"--------------------\")\n"
    },
    {
      "cell_type": "code",
      "execution_count": null,
      "metadata": {
        "trusted": true
      },
      "outputs": [],
      "source": ""
    }
  ],
  "metadata": {
    "kernelspec": {
      "display_name": "Python 3",
      "language": "python",
      "name": "python3"
    },
    "language_info": {
      "codemirror_mode": {
        "name": "ipython",
        "version": 3
      },
      "file_extension": ".py",
      "mimetype": "text/x-python",
      "name": "python",
      "nbconvert_exporter": "python",
      "pygments_lexer": "ipython3",
      "version": "3.8.6"
    }
  },
  "nbformat": 4,
  "nbformat_minor": 4
}