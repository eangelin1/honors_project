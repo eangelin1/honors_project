{
  "cells": [
    {
      "cell_type": "code",
      "execution_count": 2,
      "metadata": {
        "trusted": true
      },
      "outputs": [],
      "source": "# Appendix D\n# Classical Linear Search Algorithm\n\n# Finds item in an unordered list in linear time (O(n))"
    },
    {
      "cell_type": "code",
      "execution_count": 3,
      "metadata": {
        "trusted": true
      },
      "outputs": [],
      "source": "from time import time"
    },
    {
      "cell_type": "code",
      "execution_count": 4,
      "metadata": {
        "trusted": true
      },
      "outputs": [],
      "source": "def LinearSearch(lys, N):\n    print(\"\\n\\tSearching for N = %s...\" % N)\n    time_i = time()\n    \n    for i in range(len(lys)):\n        if lys[i] == N:\n            print(\"\\tFound %s\" % N)\n            break\n            \n    time_f = time()\n    time_delta = time_f - time_i\n    \n    print(\"\\tAlgorithm took %f seconds\" % time_delta)\n    \n    return time_delta"
    },
    {
      "cell_type": "code",
      "execution_count": 5,
      "metadata": {
        "trusted": true
      },
      "outputs": [
        {
          "name": "stdout",
          "output_type": "stream",
          "text": "--------------------\nAppendix D\nOutput for Classical Search Algorithm\n\n\nPlease input integer number N: 15\nHow many times to run: 100\n\n\n****************\nRun # 1\n\n\tSearching for N = 1111...\n\tFound 1111\n\tAlgorithm took 0.000019 seconds\n\n\n****************\nRun # 2\n\n\tSearching for N = 1111...\n\tFound 1111\n\tAlgorithm took 0.000014 seconds\n\n\n****************\nRun # 3\n\n\tSearching for N = 1111...\n\tFound 1111\n\tAlgorithm took 0.000013 seconds\n\n\n****************\nRun # 4\n\n\tSearching for N = 1111...\n\tFound 1111\n\tAlgorithm took 0.000013 seconds\n\n\n****************\nRun # 5\n\n\tSearching for N = 1111...\n\tFound 1111\n\tAlgorithm took 0.000014 seconds\n\n\n****************\nRun # 6\n\n\tSearching for N = 1111...\n\tFound 1111\n\tAlgorithm took 0.000015 seconds\n\n\n****************\nRun # 7\n\n\tSearching for N = 1111...\n\tFound 1111\n\tAlgorithm took 0.000015 seconds\n\n\n****************\nRun # 8\n\n\tSearching for N = 1111...\n\tFound 1111\n\tAlgorithm took 0.000016 seconds\n\n\n****************\nRun # 9\n\n\tSearching for N = 1111...\n\tFound 1111\n\tAlgorithm took 0.000013 seconds\n\n\n****************\nRun # 10\n\n\tSearching for N = 1111...\n\tFound 1111\n\tAlgorithm took 0.000012 seconds\n\n\n****************\nRun # 11\n\n\tSearching for N = 1111...\n\tFound 1111\n\tAlgorithm took 0.000014 seconds\n\n\n****************\nRun # 12\n\n\tSearching for N = 1111...\n\tFound 1111\n\tAlgorithm took 0.000012 seconds\n\n\n****************\nRun # 13\n\n\tSearching for N = 1111...\n\tFound 1111\n\tAlgorithm took 0.000012 seconds\n\n\n****************\nRun # 14\n\n\tSearching for N = 1111...\n\tFound 1111\n\tAlgorithm took 0.000016 seconds\n\n\n****************\nRun # 15\n\n\tSearching for N = 1111...\n\tFound 1111\n\tAlgorithm took 0.000016 seconds\n\n\n****************\nRun # 16\n\n\tSearching for N = 1111...\n\tFound 1111\n\tAlgorithm took 0.000013 seconds\n\n\n****************\nRun # 17\n\n\tSearching for N = 1111...\n\tFound 1111\n\tAlgorithm took 0.000012 seconds\n\n\n****************\nRun # 18\n\n\tSearching for N = 1111...\n\tFound 1111\n\tAlgorithm took 0.000012 seconds\n\n\n****************\nRun # 19\n\n\tSearching for N = 1111...\n\tFound 1111\n\tAlgorithm took 0.000012 seconds\n\n\n****************\nRun # 20\n\n\tSearching for N = 1111...\n\tFound 1111\n\tAlgorithm took 0.000013 seconds\n\n\n****************\nRun # 21\n\n\tSearching for N = 1111...\n\tFound 1111\n\tAlgorithm took 0.000015 seconds\n\n\n****************\nRun # 22\n\n\tSearching for N = 1111...\n\tFound 1111\n\tAlgorithm took 0.000012 seconds\n\n\n****************\nRun # 23\n\n\tSearching for N = 1111...\n\tFound 1111\n\tAlgorithm took 0.000012 seconds\n\n\n****************\nRun # 24\n\n\tSearching for N = 1111...\n\tFound 1111\n\tAlgorithm took 0.000012 seconds\n\n\n****************\nRun # 25\n\n\tSearching for N = 1111...\n\tFound 1111\n\tAlgorithm took 0.000013 seconds\n\n\n****************\nRun # 26\n\n\tSearching for N = 1111...\n\tFound 1111\n\tAlgorithm took 0.000015 seconds\n\n\n****************\nRun # 27\n\n\tSearching for N = 1111...\n\tFound 1111\n\tAlgorithm took 0.000012 seconds\n\n\n****************\nRun # 28\n\n\tSearching for N = 1111...\n\tFound 1111\n\tAlgorithm took 0.000015 seconds\n\n\n****************\nRun # 29\n\n\tSearching for N = 1111...\n\tFound 1111\n\tAlgorithm took 0.000012 seconds\n\n\n****************\nRun # 30\n\n\tSearching for N = 1111...\n\tFound 1111\n\tAlgorithm took 0.000013 seconds\n\n\n****************\nRun # 31\n\n\tSearching for N = 1111...\n\tFound 1111\n\tAlgorithm took 0.000012 seconds\n\n\n****************\nRun # 32\n\n\tSearching for N = 1111...\n\tFound 1111\n\tAlgorithm took 0.000013 seconds\n\n\n****************\nRun # 33\n\n\tSearching for N = 1111...\n\tFound 1111\n\tAlgorithm took 0.000013 seconds\n\n\n****************\nRun # 34\n\n\tSearching for N = 1111...\n\tFound 1111\n\tAlgorithm took 0.000012 seconds\n\n\n****************\nRun # 35\n\n\tSearching for N = 1111...\n\tFound 1111\n\tAlgorithm took 0.000015 seconds\n\n\n****************\nRun # 36\n\n\tSearching for N = 1111...\n\tFound 1111\n\tAlgorithm took 0.000013 seconds\n\n\n****************\nRun # 37\n\n\tSearching for N = 1111...\n\tFound 1111\n\tAlgorithm took 0.000015 seconds\n\n\n****************\nRun # 38\n\n\tSearching for N = 1111...\n\tFound 1111\n\tAlgorithm took 0.000013 seconds\n\n\n****************\nRun # 39\n\n\tSearching for N = 1111...\n\tFound 1111\n\tAlgorithm took 0.000013 seconds\n\n\n****************\nRun # 40\n\n\tSearching for N = 1111...\n\tFound 1111\n\tAlgorithm took 0.000037 seconds\n\n\n****************\nRun # 41\n\n\tSearching for N = 1111...\n\tFound 1111\n\tAlgorithm took 0.000013 seconds\n\n\n****************\nRun # 42\n\n\tSearching for N = 1111...\n\tFound 1111\n\tAlgorithm took 0.000015 seconds\n\n\n****************\nRun # 43\n\n\tSearching for N = 1111...\n\tFound 1111\n\tAlgorithm took 0.000012 seconds\n\n\n****************\nRun # 44\n\n\tSearching for N = 1111...\n\tFound 1111\n\tAlgorithm took 0.000012 seconds\n\n\n****************\nRun # 45\n\n\tSearching for N = 1111...\n\tFound 1111\n\tAlgorithm took 0.000013 seconds\n\n\n****************\nRun # 46\n\n\tSearching for N = 1111...\n\tFound 1111\n\tAlgorithm took 0.000013 seconds\n\n\n****************\nRun # 47\n\n\tSearching for N = 1111...\n\tFound 1111\n\tAlgorithm took 0.000012 seconds\n\n\n****************\nRun # 48\n\n\tSearching for N = 1111...\n\tFound 1111\n\tAlgorithm took 0.000015 seconds\n\n\n****************\nRun # 49\n\n\tSearching for N = 1111...\n\tFound 1111\n\tAlgorithm took 0.000014 seconds\n\n\n****************\nRun # 50\n\n\tSearching for N = 1111...\n\tFound 1111\n\tAlgorithm took 0.000012 seconds\n\n\n****************\nRun # 51\n\n\tSearching for N = 1111...\n\tFound 1111\n\tAlgorithm took 0.000012 seconds\n\n\n****************\nRun # 52\n\n\tSearching for N = 1111...\n\tFound 1111\n\tAlgorithm took 0.000015 seconds\n\n\n****************\nRun # 53\n\n\tSearching for N = 1111...\n\tFound 1111\n\tAlgorithm took 0.000012 seconds\n\n\n****************\nRun # 54\n\n\tSearching for N = 1111...\n\tFound 1111\n\tAlgorithm took 0.000013 seconds\n\n\n****************\nRun # 55\n\n\tSearching for N = 1111...\n\tFound 1111\n\tAlgorithm took 0.000031 seconds\n\n\n****************\nRun # 56\n\n\tSearching for N = 1111...\n\tFound 1111\n\tAlgorithm took 0.000015 seconds\n\n\n****************\nRun # 57\n\n\tSearching for N = 1111...\n\tFound 1111\n\tAlgorithm took 0.000026 seconds\n\n\n****************\nRun # 58\n\n\tSearching for N = 1111...\n\tFound 1111\n\tAlgorithm took 0.000012 seconds\n\n\n****************\nRun # 59\n\n\tSearching for N = 1111...\n\tFound 1111\n\tAlgorithm took 0.000012 seconds\n\n\n****************\nRun # 60\n\n\tSearching for N = 1111...\n\tFound 1111\n\tAlgorithm took 0.000012 seconds\n\n\n****************\nRun # 61\n\n\tSearching for N = 1111...\n\tFound 1111\n\tAlgorithm took 0.000012 seconds\n\n\n****************\nRun # 62\n\n\tSearching for N = 1111...\n\tFound 1111\n\tAlgorithm took 0.000012 seconds\n\n\n****************\nRun # 63\n\n\tSearching for N = 1111...\n\tFound 1111\n\tAlgorithm took 0.000018 seconds\n\n\n****************\nRun # 64\n\n\tSearching for N = 1111...\n\tFound 1111\n\tAlgorithm took 0.000012 seconds\n\n\n****************\nRun # 65\n\n\tSearching for N = 1111...\n\tFound 1111\n\tAlgorithm took 0.000012 seconds\n\n\n****************\nRun # 66\n\n\tSearching for N = 1111...\n\tFound 1111\n\tAlgorithm took 0.000012 seconds\n\n\n****************\nRun # 67\n\n\tSearching for N = 1111...\n\tFound 1111\n\tAlgorithm took 0.000012 seconds\n\n\n****************\nRun # 68\n\n\tSearching for N = 1111...\n\tFound 1111\n\tAlgorithm took 0.000012 seconds\n\n\n****************\nRun # 69\n\n\tSearching for N = 1111...\n\tFound 1111\n\tAlgorithm took 0.000036 seconds\n\n\n****************\nRun # 70\n\n\tSearching for N = 1111...\n\tFound 1111\n\tAlgorithm took 0.000015 seconds\n\n\n****************\nRun # 71\n\n\tSearching for N = 1111...\n\tFound 1111\n\tAlgorithm took 0.000011 seconds\n\n\n****************\nRun # 72\n\n\tSearching for N = 1111...\n\tFound 1111\n\tAlgorithm took 0.000012 seconds\n\n\n****************\nRun # 73\n\n\tSearching for N = 1111...\n\tFound 1111\n\tAlgorithm took 0.000012 seconds\n\n\n****************\nRun # 74\n\n\tSearching for N = 1111...\n\tFound 1111\n\tAlgorithm took 0.000012 seconds\n\n\n****************\nRun # 75\n\n\tSearching for N = 1111...\n\tFound 1111\n\tAlgorithm took 0.000012 seconds\n\n\n****************\nRun # 76\n\n\tSearching for N = 1111...\n\tFound 1111\n\tAlgorithm took 0.000012 seconds\n\n\n****************\nRun # 77\n\n\tSearching for N = 1111...\n\tFound 1111\n\tAlgorithm took 0.000014 seconds\n\n\n****************\nRun # 78\n\n\tSearching for N = 1111...\n\tFound 1111\n\tAlgorithm took 0.000015 seconds\n\n\n****************\nRun # 79\n\n\tSearching for N = 1111...\n\tFound 1111\n\tAlgorithm took 0.000012 seconds\n\n\n****************\nRun # 80\n\n\tSearching for N = 1111...\n\tFound 1111\n\tAlgorithm took 0.000012 seconds\n\n\n****************\nRun # 81\n\n\tSearching for N = 1111...\n\tFound 1111\n\tAlgorithm took 0.000012 seconds\n\n\n****************\nRun # 82\n\n\tSearching for N = 1111...\n\tFound 1111\n\tAlgorithm took 0.000013 seconds\n\n\n****************\nRun # 83\n\n\tSearching for N = 1111...\n\tFound 1111\n\tAlgorithm took 0.000012 seconds\n\n\n****************\nRun # 84\n\n\tSearching for N = 1111...\n\tFound 1111\n\tAlgorithm took 0.000015 seconds\n\n\n****************\nRun # 85\n\n\tSearching for N = 1111...\n\tFound 1111\n\tAlgorithm took 0.000013 seconds\n\n\n****************\nRun # 86\n\n\tSearching for N = 1111...\n\tFound 1111\n\tAlgorithm took 0.000015 seconds\n\n\n****************\nRun # 87\n\n\tSearching for N = 1111...\n\tFound 1111\n\tAlgorithm took 0.000013 seconds\n\n\n****************\nRun # 88\n\n\tSearching for N = 1111...\n\tFound 1111\n\tAlgorithm took 0.000012 seconds\n\n\n****************\nRun # 89\n\n\tSearching for N = 1111...\n\tFound 1111\n\tAlgorithm took 0.000014 seconds\n\n\n****************\nRun # 90\n\n\tSearching for N = 1111...\n\tFound 1111\n\tAlgorithm took 0.000011 seconds\n\n\n****************\nRun # 91\n\n\tSearching for N = 1111...\n\tFound 1111\n\tAlgorithm took 0.000014 seconds\n\n\n****************\nRun # 92\n\n\tSearching for N = 1111...\n\tFound 1111\n\tAlgorithm took 0.000013 seconds\n\n\n****************\nRun # 93\n\n\tSearching for N = 1111...\n\tFound 1111\n\tAlgorithm took 0.000013 seconds\n\n\n****************\nRun # 94\n\n\tSearching for N = 1111...\n\tFound 1111\n\tAlgorithm took 0.000013 seconds\n\n\n****************\nRun # 95\n\n\tSearching for N = 1111...\n\tFound 1111\n\tAlgorithm took 0.000013 seconds\n\n\n****************\nRun # 96\n\n\tSearching for N = 1111...\n\tFound 1111\n\tAlgorithm took 0.000013 seconds\n\n\n****************\nRun # 97\n\n\tSearching for N = 1111...\n\tFound 1111\n\tAlgorithm took 0.000012 seconds\n\n\n****************\nRun # 98\n\n\tSearching for N = 1111...\n\tFound 1111\n\tAlgorithm took 0.000019 seconds\n\n\n****************\nRun # 99\n\n\tSearching for N = 1111...\n\tFound 1111\n\tAlgorithm took 0.000012 seconds\n\n\n****************\nRun # 100\n\n\tSearching for N = 1111...\n\tFound 1111\n\tAlgorithm took 0.000046 seconds\n\nAverage time per run: 0.000014\nStandard Deviation: 0.000005\nDone.\n--------------------\n"
        }
      ],
      "source": "print(\"--------------------\")\nprint(\"Appendix D\")\nprint(\"Output for Classical Search Algorithm\\n\\n\")\n\n\nN = bin(int(input(\"Please input integer number N: \")))[2:].zfill(4)\nl = []\ni = '0000'\n\nwhile i != \"1111\":\n    l.append(i)\n    i = int(i, 2)\n    i += 1\n    i = bin(i)[2:].zfill(4)\n\nl.append('1111')\n\n\n# Initialize variables\ntimes = []\nruns = int(input(\"How many times to run: \"))\nsums = 0\n\n# Runs factoring algorithm a number of times\n# Gets total amount of time\n# Saves individual time per run for later\nfor i in range(runs):\n    print(\"\\n\\n****************\\nRun # %i\" % (i+1))\n    time_to_run = LinearSearch(l, N)\n    sums += time_to_run\n    times.append(time_to_run)\n\n# Average amount of time per run\navg = sums/runs\n# Sum of deviations from average\ndevsum = 0\n\nfor item in times:\n    # Calculates square of each deviation\n    dev = (avg - item)**2\n    # Stores sum of squares\n    devsum += dev\n\n# Gets the square of the average of the deviations\n# Calculates standard deviation\navg_sq = devsum/runs    \nstandard_dev = avg_sq**(1/2) \n\n\nprint(\"\\nAverage time per run: %f\" % (avg))\nprint(\"Standard Deviation: %f\" % standard_dev)\n\nprint(\"Done.\")\nprint(\"--------------------\")"
    },
    {
      "cell_type": "code",
      "execution_count": null,
      "metadata": {
        "trusted": true
      },
      "outputs": [],
      "source": ""
    }
  ],
  "metadata": {
    "kernelspec": {
      "display_name": "Python 3",
      "language": "python",
      "name": "python3"
    },
    "language_info": {
      "codemirror_mode": {
        "name": "ipython",
        "version": 3
      },
      "file_extension": ".py",
      "mimetype": "text/x-python",
      "name": "python",
      "nbconvert_exporter": "python",
      "pygments_lexer": "ipython3",
      "version": "3.7.8"
    }
  },
  "nbformat": 4,
  "nbformat_minor": 4
}