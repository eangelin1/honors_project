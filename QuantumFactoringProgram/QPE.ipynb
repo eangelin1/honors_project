{
  "cells": [
    {
      "cell_type": "code",
      "execution_count": 2,
      "metadata": {
        "trusted": true
      },
      "outputs": [],
      "source": "%matplotlib inline\n# Importing standard Qiskit libraries and configuring account\nfrom qiskit import QuantumCircuit, execute, Aer, IBMQ\nfrom qiskit.compiler import transpile, assemble\nfrom qiskit.tools.jupyter import *\nfrom qiskit.visualization import *\n# Loading your IBM Q account(s)\nprovider = IBMQ.load_account()\n\nfrom math import pi"
    },
    {
      "cell_type": "code",
      "execution_count": 3,
      "metadata": {
        "trusted": true
      },
      "outputs": [
        {
          "data": {
            "image/png": "[encoded data removed]",
            "text/plain": "<Figure size 238.392x325.08 with 1 Axes>"
          },
          "execution_count": 3,
          "metadata": {},
          "output_type": "execute_result"
        }
      ],
      "source": "n = 4\nc = n-1\n\nqc = QuantumCircuit(n, c)\nqc.x(n-1)\n\nfor x in range(n-1):\n    qc.h(x)\n    \nqc.draw('mpl')"
    },
    {
      "cell_type": "code",
      "execution_count": 4,
      "metadata": {
        "trusted": true
      },
      "outputs": [
        {
          "data": {
            "image/png": "[encoded data removed]",
            "text/plain": "<Figure size 1081.19x325.08 with 1 Axes>"
          },
          "execution_count": 4,
          "metadata": {},
          "output_type": "execute_result"
        }
      ],
      "source": "repetitions = 1\nn -= 1\nangle = pi/2\nfor qubit in range(n):\n    for x in range(repetitions):\n        qc.cu1(angle, qubit, n)\n    repetitions *= 2\n\nqc.draw('mpl')"
    },
    {
      "cell_type": "code",
      "execution_count": 5,
      "metadata": {
        "trusted": true
      },
      "outputs": [],
      "source": "def inverse_qft(circuit, n):\n    for qubit in range(n//2):\n        circuit.swap(qubit, n-qubit-1)\n    for j in range(n):\n        for m in range(j):\n            circuit.cu1(-pi/float(2**(j-m)), m, j)\n        circuit.h(j)"
    },
    {
      "cell_type": "code",
      "execution_count": null,
      "metadata": {
        "trusted": true
      },
      "outputs": [],
      "source": "qc.barrier()\ninverse_qft(qc, n)"
    },
    {
      "cell_type": "code",
      "execution_count": null,
      "metadata": {
        "trusted": true
      },
      "outputs": [],
      "source": "qc.draw('mpl')"
    },
    {
      "cell_type": "code",
      "execution_count": null,
      "metadata": {
        "trusted": true
      },
      "outputs": [],
      "source": "qc.barrier()\nfor m in range(n):\n    qc.measure(m,m)"
    },
    {
      "cell_type": "code",
      "execution_count": null,
      "metadata": {
        "trusted": true
      },
      "outputs": [],
      "source": "qc.draw()"
    },
    {
      "cell_type": "code",
      "execution_count": null,
      "metadata": {
        "trusted": true
      },
      "outputs": [],
      "source": "backend = Aer.get_backend('qasm_simulator')\nshots = 2048\nresults = execute(qc, backend=backend, shots=shots).result()\nanswer = results.get_counts()\n\nplot_histogram(answer, (20,20))"
    },
    {
      "cell_type": "code",
      "execution_count": null,
      "metadata": {
        "trusted": true
      },
      "outputs": [],
      "source": "\nresult = (int('011', 2)) / (2**n)\nprint(\"Result is %.3f\" % result)"
    },
    {
      "cell_type": "code",
      "execution_count": null,
      "metadata": {
        "trusted": true
      },
      "outputs": [],
      "source": ""
    }
  ],
  "metadata": {
    "kernelspec": {
      "display_name": "Python 3",
      "language": "python",
      "name": "python3"
    },
    "language_info": {
      "codemirror_mode": {
        "name": "ipython",
        "version": 3
      },
      "file_extension": ".py",
      "mimetype": "text/x-python",
      "name": "python",
      "nbconvert_exporter": "python",
      "pygments_lexer": "ipython3",
      "version": "3.7.8"
    }
  },
  "nbformat": 4,
  "nbformat_minor": 4
}