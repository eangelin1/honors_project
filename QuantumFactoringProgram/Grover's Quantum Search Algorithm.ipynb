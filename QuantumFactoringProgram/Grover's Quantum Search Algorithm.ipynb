{
  "cells": [
    {
      "cell_type": "code",
      "execution_count": 1,
      "metadata": {
        "trusted": true
      },
      "outputs": [],
      "source": "# Adapted from https://quantumcomputinguk.org/tutorials/grovers-algorithm-with-code\n# Based on A fast quantum mechanical algorithm for database search by L. Grover (1996)\n\n# Takes integer input with bit length <= 4 from user\n# Forms quantum circuit with 4 qubits and 4 classical bits\n# Applies oracle based on integer input\n# Applies amplitude amplification\n# Measures, then returns results\n# Result with greates amount of hits is used as answer\n# Answer returned with accuracy"
    },
    {
      "cell_type": "code",
      "execution_count": 2,
      "metadata": {
        "trusted": true
      },
      "outputs": [],
      "source": "from qiskit import QuantumRegister, ClassicalRegister, QuantumCircuit, execute, IBMQ\nimport math\nfrom time import time\nfrom math import pi\n%matplotlib inline"
    },
    {
      "cell_type": "code",
      "execution_count": 3,
      "metadata": {
        "trusted": true
      },
      "outputs": [],
      "source": "def oracle_0(qc, q):\n    # 0000 Oracle\n\n    qc.x(q[0])\n    qc.x(q[1])\n    qc.x(q[2])\n    qc.x(q[3])\n\n    qc.cu1(pi/4, q[0], q[3])\n    qc.cx(q[0], q[1])\n    qc.cu1(-pi/4, q[1], q[3])\n    qc.cx(q[0], q[1])\n    qc.cu1(pi/4, q[1], q[3])\n    qc.cx(q[1], q[2])\n    qc.cu1(-pi/4, q[2], q[3])\n    qc.cx(q[0], q[2])\n    qc.cu1(pi/4, q[2], q[3])\n    qc.cx(q[1], q[2])\n    qc.cu1(-pi/4, q[2], q[3])\n    qc.cx(q[0], q[2])\n    qc.cu1(pi/4, q[2], q[3])\n\n    qc.x(q[0])\n    qc.x(q[1])\n    qc.x(q[2])\n    qc.x(q[3])"
    },
    {
      "cell_type": "code",
      "execution_count": 4,
      "metadata": {
        "trusted": true
      },
      "outputs": [],
      "source": "def oracle_1(qc, q):\n    # 0001 Oracle\n\n    qc.x(q[1])\n    qc.x(q[2])\n    qc.x(q[3])\n\n    qc.cu1(pi/4, q[0], q[3])\n    qc.cx(q[0], q[1])\n    qc.cu1(-pi/4, q[1], q[3])\n    qc.cx(q[0], q[1])\n    qc.cu1(pi/4, q[1], q[3])\n    qc.cx(q[1], q[2])\n    qc.cu1(-pi/4, q[2], q[3])\n    qc.cx(q[0], q[2])\n    qc.cu1(pi/4, q[2], q[3])\n    qc.cx(q[1], q[2])\n    qc.cu1(-pi/4, q[2], q[3])\n    qc.cx(q[0], q[2])\n    qc.cu1(pi/4, q[2], q[3])\n\n    qc.x(q[1])\n    qc.x(q[2])\n    qc.x(q[3])"
    },
    {
      "cell_type": "code",
      "execution_count": 5,
      "metadata": {
        "trusted": true
      },
      "outputs": [],
      "source": "def oracle_2(qc, q):\n    # 0010 Oracle\n\n    qc.x(q[0])\n    qc.x(q[2])\n    qc.x(q[3])\n\n    qc.cu1(pi/4, q[0], q[3])\n    qc.cx(q[0], q[1])\n    qc.cu1(-pi/4, q[1], q[3])\n    qc.cx(q[0], q[1])\n    qc.cu1(pi/4, q[1], q[3])\n    qc.cx(q[1], q[2])\n    qc.cu1(-pi/4, q[2], q[3])\n    qc.cx(q[0], q[2])\n    qc.cu1(pi/4, q[2], q[3])\n    qc.cx(q[1], q[2])\n    qc.cu1(-pi/4, q[2], q[3])\n    qc.cx(q[0], q[2])\n    qc.cu1(pi/4, q[2], q[3])\n\n    qc.x(q[0])\n    qc.x(q[2])\n    qc.x(q[3])"
    },
    {
      "cell_type": "code",
      "execution_count": 6,
      "metadata": {
        "trusted": true
      },
      "outputs": [],
      "source": "def oracle_3(qc, q):\n    # 0011 Oracle\n\n    qc.x(q[2])\n    qc.x(q[3])\n\n    qc.cu1(pi/4, q[0], q[3])\n    qc.cx(q[0], q[1])\n    qc.cu1(-pi/4, q[1], q[3])\n    qc.cx(q[0], q[1])\n    qc.cu1(pi/4, q[1], q[3])\n    qc.cx(q[1], q[2])\n    qc.cu1(-pi/4, q[2], q[3])\n    qc.cx(q[0], q[2])\n    qc.cu1(pi/4, q[2], q[3])\n    qc.cx(q[1], q[2])\n    qc.cu1(-pi/4, q[2], q[3])\n    qc.cx(q[0], q[2])\n    qc.cu1(pi/4, q[2], q[3])\n\n    qc.x(q[2])\n    qc.x(q[3])"
    },
    {
      "cell_type": "code",
      "execution_count": 7,
      "metadata": {
        "trusted": true
      },
      "outputs": [],
      "source": "def oracle_4(qc, q):\n    # 0100 Oracle\n\n    qc.x(q[0])\n    qc.x(q[1])\n    qc.x(q[3])\n\n    qc.cu1(pi/4, q[0], q[3])\n    qc.cx(q[0], q[1])\n    qc.cu1(-pi/4, q[1], q[3])\n    qc.cx(q[0], q[1])\n    qc.cu1(pi/4, q[1], q[3])\n    qc.cx(q[1], q[2])\n    qc.cu1(-pi/4, q[2], q[3])\n    qc.cx(q[0], q[2])\n    qc.cu1(pi/4, q[2], q[3])\n    qc.cx(q[1], q[2])\n    qc.cu1(-pi/4, q[2], q[3])\n    qc.cx(q[0], q[2])\n    qc.cu1(pi/4, q[2], q[3])\n\n    qc.x(q[0])\n    qc.x(q[1])\n    qc.x(q[3])"
    },
    {
      "cell_type": "code",
      "execution_count": 8,
      "metadata": {
        "trusted": true
      },
      "outputs": [],
      "source": "def oracle_5(qc, q):\n    # 0101 Oracle\n\n    qc.x(q[1])\n    qc.x(q[3])\n\n    qc.cu1(pi/4, q[0], q[3])\n    qc.cx(q[0], q[1])\n    qc.cu1(-pi/4, q[1], q[3])\n    qc.cx(q[0], q[1])\n    qc.cu1(pi/4, q[1], q[3])\n    qc.cx(q[1], q[2])\n    qc.cu1(-pi/4, q[2], q[3])\n    qc.cx(q[0], q[2])\n    qc.cu1(pi/4, q[2], q[3])\n    qc.cx(q[1], q[2])\n    qc.cu1(-pi/4, q[2], q[3])\n    qc.cx(q[0], q[2])\n    qc.cu1(pi/4, q[2], q[3])\n\n    qc.x(q[1])\n    qc.x(q[3])"
    },
    {
      "cell_type": "code",
      "execution_count": 9,
      "metadata": {
        "trusted": true
      },
      "outputs": [],
      "source": "def oracle_6(qc, q):\n    # 0110 Oracle\n\n    qc.x(q[0])\n    qc.x(q[3])\n\n    qc.cu1(pi/4, q[0], q[3])\n    qc.cx(q[0], q[1])\n    qc.cu1(-pi/4, q[1], q[3])\n    qc.cx(q[0], q[1])\n    qc.cu1(pi/4, q[1], q[3])\n    qc.cx(q[1], q[2])\n    qc.cu1(-pi/4, q[2], q[3])\n    qc.cx(q[0], q[2])\n    qc.cu1(pi/4, q[2], q[3])\n    qc.cx(q[1], q[2])\n    qc.cu1(-pi/4, q[2], q[3])\n    qc.cx(q[0], q[2])\n    qc.cu1(pi/4, q[2], q[3])\n\n    qc.x(q[0])\n    qc.x(q[3])"
    },
    {
      "cell_type": "code",
      "execution_count": 10,
      "metadata": {
        "trusted": true
      },
      "outputs": [],
      "source": "def oracle_7(qc, q):\n    # 0111 Oracle\n\n    qc.x(q[3])\n\n    qc.cu1(pi/4, q[0], q[3])\n    qc.cx(q[0], q[1])\n    qc.cu1(-pi/4, q[1], q[3])\n    qc.cx(q[0], q[1])\n    qc.cu1(pi/4, q[1], q[3])\n    qc.cx(q[1], q[2])\n    qc.cu1(-pi/4, q[2], q[3])\n    qc.cx(q[0], q[2])\n    qc.cu1(pi/4, q[2], q[3])\n    qc.cx(q[1], q[2])\n    qc.cu1(-pi/4, q[2], q[3])\n    qc.cx(q[0], q[2])\n    qc.cu1(pi/4, q[2], q[3])\n\n    qc.x(q[3])"
    },
    {
      "cell_type": "code",
      "execution_count": 11,
      "metadata": {
        "trusted": true
      },
      "outputs": [],
      "source": "def oracle_8(qc, q):\n    # 1000 Oracle\n\n    qc.x(q[0])\n    qc.x(q[1])\n    qc.x(q[2])\n\n    qc.cu1(pi/4, q[0], q[3])\n    qc.cx(q[0], q[1])\n    qc.cu1(-pi/4, q[1], q[3])\n    qc.cx(q[0], q[1])\n    qc.cu1(pi/4, q[1], q[3])\n    qc.cx(q[1], q[2])\n    qc.cu1(-pi/4, q[2], q[3])\n    qc.cx(q[0], q[2])\n    qc.cu1(pi/4, q[2], q[3])\n    qc.cx(q[1], q[2])\n    qc.cu1(-pi/4, q[2], q[3])\n    qc.cx(q[0], q[2])\n    qc.cu1(pi/4, q[2], q[3])\n\n    qc.x(q[0])\n    qc.x(q[1])\n    qc.x(q[2])"
    },
    {
      "cell_type": "code",
      "execution_count": 12,
      "metadata": {
        "trusted": true
      },
      "outputs": [],
      "source": "def oracle_9(qc, q):\n    # 1001 Oracle\n\n    qc.x(q[1])\n    qc.x(q[2])\n\n    qc.cu1(pi/4, q[0], q[3])\n    qc.cx(q[0], q[1])\n    qc.cu1(-pi/4, q[1], q[3])\n    qc.cx(q[0], q[1])\n    qc.cu1(pi/4, q[1], q[3])\n    qc.cx(q[1], q[2])\n    qc.cu1(-pi/4, q[2], q[3])\n    qc.cx(q[0], q[2])\n    qc.cu1(pi/4, q[2], q[3])\n    qc.cx(q[1], q[2])\n    qc.cu1(-pi/4, q[2], q[3])\n    qc.cx(q[0], q[2])\n    qc.cu1(pi/4, q[2], q[3])\n\n    qc.x(q[1])\n    qc.x(q[2])"
    },
    {
      "cell_type": "code",
      "execution_count": 13,
      "metadata": {
        "trusted": true
      },
      "outputs": [],
      "source": "def oracle_10(qc, q):\n    # 1010 Oracle\n\n    qc.x(q[0])\n    qc.x(q[2])\n\n    qc.cu1(pi/4, q[0], q[3])\n    qc.cx(q[0], q[1])\n    qc.cu1(-pi/4, q[1], q[3])\n    qc.cx(q[0], q[1])\n    qc.cu1(pi/4, q[1], q[3])\n    qc.cx(q[1], q[2])\n    qc.cu1(-pi/4, q[2], q[3])\n    qc.cx(q[0], q[2])\n    qc.cu1(pi/4, q[2], q[3])\n    qc.cx(q[1], q[2])\n    qc.cu1(-pi/4, q[2], q[3])\n    qc.cx(q[0], q[2])\n    qc.cu1(pi/4, q[2], q[3])\n\n    qc.x(q[0])\n    qc.x(q[2])"
    },
    {
      "cell_type": "code",
      "execution_count": 14,
      "metadata": {
        "trusted": true
      },
      "outputs": [],
      "source": "def oracle_11(qc, q):\n    # 1011 Oracle\n\n    qc.x(q[3])\n\n    qc.cu1(pi/4, q[0], q[3])\n    qc.cx(q[0], q[1])\n    qc.cu1(-pi/4, q[1], q[3])\n    qc.cx(q[0], q[1])\n    qc.cu1(pi/4, q[1], q[3])\n    qc.cx(q[1], q[2])\n    qc.cu1(-pi/4, q[2], q[3])\n    qc.cx(q[0], q[2])\n    qc.cu1(pi/4, q[2], q[3])\n    qc.cx(q[1], q[2])\n    qc.cu1(-pi/4, q[2], q[3])\n    qc.cx(q[0], q[2])\n    qc.cu1(pi/4, q[2], q[3])\n\n    qc.x(q[3])"
    },
    {
      "cell_type": "code",
      "execution_count": 15,
      "metadata": {
        "trusted": true
      },
      "outputs": [],
      "source": "def oracle_12(qc, q):\n    # 1100 Oracle\n\n    qc.x(q[0])\n    qc.x(q[1])\n\n    qc.cu1(pi/4, q[0], q[3])\n    qc.cx(q[0], q[1])\n    qc.cu1(-pi/4, q[1], q[3])\n    qc.cx(q[0], q[1])\n    qc.cu1(pi/4, q[1], q[3])\n    qc.cx(q[1], q[2])\n    qc.cu1(-pi/4, q[2], q[3])\n    qc.cx(q[0], q[2])\n    qc.cu1(pi/4, q[2], q[3])\n    qc.cx(q[1], q[2])\n    qc.cu1(-pi/4, q[2], q[3])\n    qc.cx(q[0], q[2])\n    qc.cu1(pi/4, q[2], q[3])\n\n    qc.x(q[0])\n    qc.x(q[1])"
    },
    {
      "cell_type": "code",
      "execution_count": 16,
      "metadata": {
        "trusted": true
      },
      "outputs": [],
      "source": "def oracle_13(qc, q):\n    # 1101 Oracle \n\n    qc.x(q[1])\n\n    qc.cu1(pi/4, q[0], q[3])\n    qc.cx(q[0], q[1])\n    qc.cu1(-pi/4, q[1], q[3])\n    qc.cx(q[0], q[1])\n    qc.cu1(pi/4, q[1], q[3])\n    qc.cx(q[1], q[2])\n    qc.cu1(-pi/4, q[2], q[3])\n    qc.cx(q[0], q[2])\n    qc.cu1(pi/4, q[2], q[3])\n    qc.cx(q[1], q[2])\n    qc.cu1(-pi/4, q[2], q[3])\n    qc.cx(q[0], q[2])\n    qc.cu1(pi/4, q[2], q[3])\n\n    qc.x(q[1])"
    },
    {
      "cell_type": "code",
      "execution_count": 17,
      "metadata": {
        "trusted": true
      },
      "outputs": [],
      "source": "def oracle_14(qc, q):\n    # 1110 Oracle\n\n    qc.x(q[0])\n\n    qc.cu1(pi/4, q[0], q[3])\n    qc.cx(q[0], q[1])\n    qc.cu1(-pi/4, q[1], q[3])\n    qc.cx(q[0], q[1])\n    qc.cu1(pi/4, q[1], q[3])\n    qc.cx(q[1], q[2])\n    qc.cu1(-pi/4, q[2], q[3])\n    qc.cx(q[0], q[2])\n    qc.cu1(pi/4, q[2], q[3])\n    qc.cx(q[1], q[2])\n    qc.cu1(-pi/4, q[2], q[3])\n    qc.cx(q[0], q[2])\n    qc.cu1(pi/4, q[2], q[3])\n\n    qc.x(q[0])"
    },
    {
      "cell_type": "code",
      "execution_count": 18,
      "metadata": {
        "trusted": true
      },
      "outputs": [],
      "source": "def oracle_15(qc, q):\n    # 1111 Oracle\n    \n    qc.cu1(pi/4, q[0], q[3])\n    qc.cx(q[0], q[1])\n    qc.cu1(-pi/4, q[1], q[3])\n    qc.cx(q[0], q[1])\n    qc.cu1(pi/4, q[1], q[3])\n    qc.cx(q[1], q[2])\n    qc.cu1(-pi/4, q[2], q[3])\n    qc.cx(q[0], q[2])\n    qc.cu1(pi/4, q[2], q[3])\n    qc.cx(q[1], q[2])\n    qc.cu1(-pi/4, q[2], q[3])\n    qc.cx(q[0], q[2])\n    qc.cu1(pi/4, q[2], q[3])"
    },
    {
      "cell_type": "code",
      "execution_count": 19,
      "metadata": {
        "trusted": true
      },
      "outputs": [],
      "source": "def oracle_ctl(tgt, qc, q):\n    # Runs oracle depending on the target of the search\n    if tgt==0:\n        oracle_0(qc, q)\n    if tgt==1:\n        oracle_1(qc, q)\n    if tgt==2:\n        oracle_2(qc, q)\n    if tgt==3:\n        oracle_3(qc, q)\n    if tgt==4:\n        oracle_4(qc, q)\n    if tgt==5:\n        oracle_5(qc, q)\n    if tgt==6:\n        oracle_6(qc, q)\n    if tgt==7:\n        oracle_7(qc, q)\n    if tgt==8:\n        oracle_8(qc, q)\n    if tgt==9:\n        oracle_9(qc, q)\n    if tgt==10:\n        oracle_10(qc, q)\n    if tgt==11:\n        oracle_11(qc, q)\n    if tgt==12:\n        oracle_12(qc, q)\n    if tgt==13:\n        oracle_13(qc, q)\n    if tgt==14:\n        oracle_14(qc, q)\n    if tgt==15:\n        oracle_15(qc,q)"
    },
    {
      "cell_type": "code",
      "execution_count": 20,
      "metadata": {
        "trusted": true
      },
      "outputs": [],
      "source": "def grover(N):\n    time_i = time()\n    \n    # Step 1\n    # Initialize circuit\n        \n    pi = math.pi\n    q = QuantumRegister(4,'q')\n    c = ClassicalRegister(4,'c')\n    qc = QuantumCircuit(q,c)\n\n    for i in range(4):\n        qc.h(q[i]) \n        \n    # Step 2\n    # Apply operators Uw and Us to circuit\n    \n    # Operator Uw aka the oracle\n    oracle_ctl(N, qc, q)\n\n    # Operator Us aka amplitude amplification\n    for i in range(4):\n        qc.h(q[i])\n        qc.x(q[i])\n\n    qc.cu1(pi/4, q[0], q[3])\n    qc.cx(q[0], q[1])\n    qc.cu1(-pi/4, q[1], q[3])\n    qc.cx(q[0], q[1])\n    qc.cu1(pi/4, q[1], q[3])\n    qc.cx(q[1], q[2])\n    qc.cu1(-pi/4, q[2], q[3])\n    qc.cx(q[0], q[2])\n    qc.cu1(pi/4, q[2], q[3])\n    qc.cx(q[1], q[2])\n\n    qc.cu1(-pi/4, q[2], q[3])\n    qc.cx(q[0], q[2])\n    qc.cu1(pi/4, q[2], q[3])\n\n    for i in range(4):\n        qc.x(q[i])\n        qc.h(q[i])\n    \n    # Step 3\n    # Measurement\n    qc.barrier(q)\n    for i in range(4):\n        qc.measure(q[i], c[i])\n\n    # Simulate circuit\n    backend = provider.get_backend('ibmq_qasm_simulator')\n    print('\\n\\tSimulating circuit...\\n')\n    job = execute(qc, backend, shots=100)\n    counts = job.result().get_counts()\n\n    maxval=0\n\n    for i in counts.keys():\n        if counts[i] > maxval:\n            maxval=counts[i]\n            x=i\n        \n    time_f = time()\n    \n    time_delta = time_f - time_i\n\n    print(\"\\n\\tFound %i in %i/%i shots\" % (int(x,2), maxval, 100))\n    print(\"\\tAlgorithm took: %f seconds\" % time_delta)\n    \n    return time_delta"
    },
    {
      "cell_type": "code",
      "execution_count": 22,
      "metadata": {
        "scrolled": true,
        "trusted": true
      },
      "outputs": [
        {
          "name": "stdout",
          "output_type": "stream",
          "text": "--------------------\nAppendix B\nGrover's Quantum Search Algorithm\n\n\nLoading IBMQ account...\n"
        },
        {
          "name": "stderr",
          "output_type": "stream",
          "text": "ibmqfactory.load_account:WARNING:2020-08-18 19:37:45,126: Credentials are already in use. The existing account in the session will be replaced.\n"
        },
        {
          "name": "stdout",
          "output_type": "stream",
          "text": "Enter 4 bit number: 15\nHow many times to run: 100\n\n\n****************\nRun # 1\n\n\tSimulating circuit...\n\n\n\tFound 15 in 56/100 shots\n\tAlgorithm took: 6.980801 seconds\n\n\n****************\nRun # 2\n\n\tSimulating circuit...\n\n\n\tFound 15 in 48/100 shots\n\tAlgorithm took: 7.155693 seconds\n\n\n****************\nRun # 3\n\n\tSimulating circuit...\n\n\n\tFound 15 in 45/100 shots\n\tAlgorithm took: 5.671464 seconds\n\n\n****************\nRun # 4\n\n\tSimulating circuit...\n\n\n\tFound 15 in 42/100 shots\n\tAlgorithm took: 6.996946 seconds\n\n\n****************\nRun # 5\n\n\tSimulating circuit...\n\n\n\tFound 15 in 43/100 shots\n\tAlgorithm took: 6.272846 seconds\n\n\n****************\nRun # 6\n\n\tSimulating circuit...\n\n\n\tFound 15 in 51/100 shots\n\tAlgorithm took: 7.151806 seconds\n\n\n****************\nRun # 7\n\n\tSimulating circuit...\n\n\n\tFound 15 in 46/100 shots\n\tAlgorithm took: 6.330433 seconds\n\n\n****************\nRun # 8\n\n\tSimulating circuit...\n\n\n\tFound 15 in 46/100 shots\n\tAlgorithm took: 6.192654 seconds\n\n\n****************\nRun # 9\n\n\tSimulating circuit...\n\n\n\tFound 15 in 57/100 shots\n\tAlgorithm took: 6.799934 seconds\n\n\n****************\nRun # 10\n\n\tSimulating circuit...\n\n\n\tFound 15 in 46/100 shots\n\tAlgorithm took: 6.447822 seconds\n\n\n****************\nRun # 11\n\n\tSimulating circuit...\n\n\n\tFound 15 in 44/100 shots\n\tAlgorithm took: 6.702117 seconds\n\n\n****************\nRun # 12\n\n\tSimulating circuit...\n\n\n\tFound 15 in 42/100 shots\n\tAlgorithm took: 6.244012 seconds\n\n\n****************\nRun # 13\n\n\tSimulating circuit...\n\n\n\tFound 15 in 56/100 shots\n\tAlgorithm took: 6.898547 seconds\n\n\n****************\nRun # 14\n\n\tSimulating circuit...\n\n\n\tFound 15 in 47/100 shots\n\tAlgorithm took: 6.458763 seconds\n\n\n****************\nRun # 15\n\n\tSimulating circuit...\n\n\n\tFound 15 in 46/100 shots\n\tAlgorithm took: 6.078915 seconds\n\n\n****************\nRun # 16\n\n\tSimulating circuit...\n\n\n\tFound 15 in 53/100 shots\n\tAlgorithm took: 6.665635 seconds\n\n\n****************\nRun # 17\n\n\tSimulating circuit...\n\n\n\tFound 15 in 45/100 shots\n\tAlgorithm took: 6.058112 seconds\n\n\n****************\nRun # 18\n\n\tSimulating circuit...\n\n\n\tFound 15 in 47/100 shots\n\tAlgorithm took: 6.027737 seconds\n\n\n****************\nRun # 19\n\n\tSimulating circuit...\n\n\n\tFound 15 in 49/100 shots\n\tAlgorithm took: 5.423064 seconds\n\n\n****************\nRun # 20\n\n\tSimulating circuit...\n\n\n\tFound 15 in 56/100 shots\n\tAlgorithm took: 5.841825 seconds\n\n\n****************\nRun # 21\n\n\tSimulating circuit...\n\n\n\tFound 15 in 50/100 shots\n\tAlgorithm took: 6.536623 seconds\n\n\n****************\nRun # 22\n\n\tSimulating circuit...\n\n\n\tFound 15 in 40/100 shots\n\tAlgorithm took: 6.450923 seconds\n\n\n****************\nRun # 23\n\n\tSimulating circuit...\n\n\n\tFound 15 in 49/100 shots\n\tAlgorithm took: 5.482749 seconds\n\n\n****************\nRun # 24\n\n\tSimulating circuit...\n\n\n\tFound 15 in 53/100 shots\n\tAlgorithm took: 6.108992 seconds\n\n\n****************\nRun # 25\n\n\tSimulating circuit...\n\n\n\tFound 15 in 43/100 shots\n\tAlgorithm took: 6.583276 seconds\n\n\n****************\nRun # 26\n\n\tSimulating circuit...\n\n\n\tFound 15 in 49/100 shots\n\tAlgorithm took: 6.058825 seconds\n\n\n****************\nRun # 27\n\n\tSimulating circuit...\n\n\n\tFound 15 in 47/100 shots\n\tAlgorithm took: 5.751514 seconds\n\n\n****************\nRun # 28\n\n\tSimulating circuit...\n\n\n\tFound 15 in 43/100 shots\n\tAlgorithm took: 6.331384 seconds\n\n\n****************\nRun # 29\n\n\tSimulating circuit...\n\n\n\tFound 15 in 44/100 shots\n\tAlgorithm took: 6.891765 seconds\n\n\n****************\nRun # 30\n\n\tSimulating circuit...\n\n\n\tFound 15 in 43/100 shots\n\tAlgorithm took: 6.191310 seconds\n\n\n****************\nRun # 31\n\n\tSimulating circuit...\n\n\n\tFound 15 in 40/100 shots\n\tAlgorithm took: 6.111857 seconds\n\n\n****************\nRun # 32\n\n\tSimulating circuit...\n\n\n\tFound 15 in 45/100 shots\n\tAlgorithm took: 6.755043 seconds\n\n\n****************\nRun # 33\n\n\tSimulating circuit...\n\n\n\tFound 15 in 54/100 shots\n\tAlgorithm took: 5.659144 seconds\n\n\n****************\nRun # 34\n\n\tSimulating circuit...\n\n\n\tFound 15 in 38/100 shots\n\tAlgorithm took: 6.092065 seconds\n\n\n****************\nRun # 35\n\n\tSimulating circuit...\n\n\n\tFound 15 in 46/100 shots\n\tAlgorithm took: 5.614382 seconds\n\n\n****************\nRun # 36\n\n\tSimulating circuit...\n\n\n\tFound 15 in 53/100 shots\n\tAlgorithm took: 6.297896 seconds\n\n\n****************\nRun # 37\n\n\tSimulating circuit...\n\n\n\tFound 15 in 51/100 shots\n\tAlgorithm took: 6.155212 seconds\n\n\n****************\nRun # 38\n\n\tSimulating circuit...\n\n\n\tFound 15 in 51/100 shots\n\tAlgorithm took: 6.132198 seconds\n\n\n****************\nRun # 39\n\n\tSimulating circuit...\n\n\n\tFound 15 in 44/100 shots\n\tAlgorithm took: 5.775708 seconds\n\n\n****************\nRun # 40\n\n\tSimulating circuit...\n\n\n\tFound 15 in 41/100 shots\n\tAlgorithm took: 5.913599 seconds\n\n\n****************\nRun # 41\n\n\tSimulating circuit...\n\n\n\tFound 15 in 38/100 shots\n\tAlgorithm took: 5.766946 seconds\n\n\n****************\nRun # 42\n\n\tSimulating circuit...\n\n\n\tFound 15 in 50/100 shots\n\tAlgorithm took: 6.943341 seconds\n\n\n****************\nRun # 43\n\n\tSimulating circuit...\n\n\n\tFound 15 in 49/100 shots\n\tAlgorithm took: 5.607293 seconds\n\n\n****************\nRun # 44\n\n\tSimulating circuit...\n\n\n\tFound 15 in 42/100 shots\n\tAlgorithm took: 6.107410 seconds\n\n\n****************\nRun # 45\n\n\tSimulating circuit...\n\n\n\tFound 15 in 39/100 shots\n\tAlgorithm took: 7.046344 seconds\n\n\n****************\nRun # 46\n\n\tSimulating circuit...\n\n\n\tFound 15 in 46/100 shots\n\tAlgorithm took: 6.503470 seconds\n\n\n****************\nRun # 47\n\n\tSimulating circuit...\n\n\n\tFound 15 in 47/100 shots\n\tAlgorithm took: 6.314317 seconds\n\n\n****************\nRun # 48\n\n\tSimulating circuit...\n\n\n\tFound 15 in 42/100 shots\n\tAlgorithm took: 6.076083 seconds\n\n\n****************\nRun # 49\n\n\tSimulating circuit...\n\n\n\tFound 15 in 43/100 shots\n\tAlgorithm took: 6.319321 seconds\n\n\n****************\nRun # 50\n\n\tSimulating circuit...\n\n\n\tFound 15 in 42/100 shots\n\tAlgorithm took: 6.179170 seconds\n\n\n****************\nRun # 51\n\n\tSimulating circuit...\n\n\n\tFound 15 in 49/100 shots\n\tAlgorithm took: 6.275297 seconds\n\n\n****************\nRun # 52\n\n\tSimulating circuit...\n\n\n\tFound 15 in 42/100 shots\n\tAlgorithm took: 6.099688 seconds\n\n\n****************\nRun # 53\n\n\tSimulating circuit...\n\n\n\tFound 15 in 49/100 shots\n\tAlgorithm took: 5.491269 seconds\n\n\n****************\nRun # 54\n\n\tSimulating circuit...\n\n\n\tFound 15 in 38/100 shots\n\tAlgorithm took: 5.796165 seconds\n\n\n****************\nRun # 55\n\n\tSimulating circuit...\n\n\n\tFound 15 in 52/100 shots\n\tAlgorithm took: 6.405907 seconds\n\n\n****************\nRun # 56\n\n\tSimulating circuit...\n\n\n\tFound 15 in 48/100 shots\n\tAlgorithm took: 7.060886 seconds\n\n\n****************\nRun # 57\n\n\tSimulating circuit...\n\n\n\tFound 15 in 54/100 shots\n\tAlgorithm took: 5.924039 seconds\n\n\n****************\nRun # 58\n\n\tSimulating circuit...\n\n\n\tFound 15 in 60/100 shots\n\tAlgorithm took: 5.984099 seconds\n\n\n****************\nRun # 59\n\n\tSimulating circuit...\n\n\n\tFound 15 in 43/100 shots\n\tAlgorithm took: 6.247473 seconds\n\n\n****************\nRun # 60\n\n\tSimulating circuit...\n\n\n\tFound 15 in 52/100 shots\n\tAlgorithm took: 6.079725 seconds\n\n\n****************\nRun # 61\n\n\tSimulating circuit...\n\n\n\tFound 15 in 37/100 shots\n\tAlgorithm took: 6.349704 seconds\n\n\n****************\nRun # 62\n\n\tSimulating circuit...\n\n\n\tFound 15 in 55/100 shots\n\tAlgorithm took: 5.608028 seconds\n\n\n****************\nRun # 63\n\n\tSimulating circuit...\n\n\n\tFound 15 in 46/100 shots\n\tAlgorithm took: 5.839816 seconds\n\n\n****************\nRun # 64\n\n\tSimulating circuit...\n\n\n\tFound 15 in 46/100 shots\n\tAlgorithm took: 5.989894 seconds\n\n\n****************\nRun # 65\n\n\tSimulating circuit...\n\n\n\tFound 15 in 39/100 shots\n\tAlgorithm took: 6.147694 seconds\n\n\n****************\nRun # 66\n\n\tSimulating circuit...\n\n\n\tFound 15 in 50/100 shots\n\tAlgorithm took: 5.999447 seconds\n\n\n****************\nRun # 67\n\n\tSimulating circuit...\n\n\n\tFound 15 in 55/100 shots\n\tAlgorithm took: 5.954254 seconds\n\n\n****************\nRun # 68\n\n\tSimulating circuit...\n\n\n\tFound 15 in 47/100 shots\n\tAlgorithm took: 6.004940 seconds\n\n\n****************\nRun # 69\n\n\tSimulating circuit...\n\n\n\tFound 15 in 54/100 shots\n\tAlgorithm took: 5.955888 seconds\n\n\n****************\nRun # 70\n\n\tSimulating circuit...\n\n\n\tFound 15 in 42/100 shots\n\tAlgorithm took: 6.174774 seconds\n\n\n****************\nRun # 71\n\n\tSimulating circuit...\n\n\n\tFound 15 in 45/100 shots\n\tAlgorithm took: 6.637280 seconds\n\n\n****************\nRun # 72\n\n\tSimulating circuit...\n\n\n\tFound 15 in 46/100 shots\n\tAlgorithm took: 6.663813 seconds\n\n\n****************\nRun # 73\n\n\tSimulating circuit...\n\n"
        },
        {
          "name": "stdout",
          "output_type": "stream",
          "text": "\n\tFound 15 in 50/100 shots\n\tAlgorithm took: 6.149942 seconds\n\n\n****************\nRun # 74\n\n\tSimulating circuit...\n\n\n\tFound 15 in 40/100 shots\n\tAlgorithm took: 6.053681 seconds\n\n\n****************\nRun # 75\n\n\tSimulating circuit...\n\n\n\tFound 15 in 54/100 shots\n\tAlgorithm took: 6.771904 seconds\n\n\n****************\nRun # 76\n\n\tSimulating circuit...\n\n\n\tFound 15 in 42/100 shots\n\tAlgorithm took: 6.418760 seconds\n\n\n****************\nRun # 77\n\n\tSimulating circuit...\n\n\n\tFound 15 in 41/100 shots\n\tAlgorithm took: 6.654567 seconds\n\n\n****************\nRun # 78\n\n\tSimulating circuit...\n\n\n\tFound 15 in 55/100 shots\n\tAlgorithm took: 5.824521 seconds\n\n\n****************\nRun # 79\n\n\tSimulating circuit...\n\n\n\tFound 15 in 44/100 shots\n\tAlgorithm took: 6.903708 seconds\n\n\n****************\nRun # 80\n\n\tSimulating circuit...\n\n\n\tFound 15 in 50/100 shots\n\tAlgorithm took: 5.941601 seconds\n\n\n****************\nRun # 81\n\n\tSimulating circuit...\n\n\n\tFound 15 in 49/100 shots\n\tAlgorithm took: 6.820211 seconds\n\n\n****************\nRun # 82\n\n\tSimulating circuit...\n\n\n\tFound 15 in 47/100 shots\n\tAlgorithm took: 5.968084 seconds\n\n\n****************\nRun # 83\n\n\tSimulating circuit...\n\n\n\tFound 15 in 55/100 shots\n\tAlgorithm took: 6.246359 seconds\n\n\n****************\nRun # 84\n\n\tSimulating circuit...\n\n\n\tFound 15 in 45/100 shots\n\tAlgorithm took: 5.490672 seconds\n\n\n****************\nRun # 85\n\n\tSimulating circuit...\n\n\n\tFound 15 in 51/100 shots\n\tAlgorithm took: 5.544195 seconds\n\n\n****************\nRun # 86\n\n\tSimulating circuit...\n\n\n\tFound 15 in 42/100 shots\n\tAlgorithm took: 5.727017 seconds\n\n\n****************\nRun # 87\n\n\tSimulating circuit...\n\n\n\tFound 15 in 44/100 shots\n\tAlgorithm took: 6.169531 seconds\n\n\n****************\nRun # 88\n\n\tSimulating circuit...\n\n\n\tFound 15 in 52/100 shots\n\tAlgorithm took: 6.029680 seconds\n\n\n****************\nRun # 89\n\n\tSimulating circuit...\n\n\n\tFound 15 in 39/100 shots\n\tAlgorithm took: 6.411675 seconds\n\n\n****************\nRun # 90\n\n\tSimulating circuit...\n\n\n\tFound 15 in 45/100 shots\n\tAlgorithm took: 6.517058 seconds\n\n\n****************\nRun # 91\n\n\tSimulating circuit...\n\n\n\tFound 15 in 53/100 shots\n\tAlgorithm took: 6.195515 seconds\n\n\n****************\nRun # 92\n\n\tSimulating circuit...\n\n\n\tFound 15 in 49/100 shots\n\tAlgorithm took: 7.031850 seconds\n\n\n****************\nRun # 93\n\n\tSimulating circuit...\n\n\n\tFound 15 in 46/100 shots\n\tAlgorithm took: 5.469772 seconds\n\n\n****************\nRun # 94\n\n\tSimulating circuit...\n\n\n\tFound 15 in 52/100 shots\n\tAlgorithm took: 5.962868 seconds\n\n\n****************\nRun # 95\n\n\tSimulating circuit...\n\n\n\tFound 15 in 56/100 shots\n\tAlgorithm took: 6.429615 seconds\n\n\n****************\nRun # 96\n\n\tSimulating circuit...\n\n\n\tFound 15 in 40/100 shots\n\tAlgorithm took: 6.448781 seconds\n\n\n****************\nRun # 97\n\n\tSimulating circuit...\n\n\n\tFound 15 in 44/100 shots\n\tAlgorithm took: 5.781896 seconds\n\n\n****************\nRun # 98\n\n\tSimulating circuit...\n\n\n\tFound 15 in 49/100 shots\n\tAlgorithm took: 6.863077 seconds\n\n\n****************\nRun # 99\n\n\tSimulating circuit...\n\n\n\tFound 15 in 63/100 shots\n\tAlgorithm took: 6.127262 seconds\n\n\n****************\nRun # 100\n\n\tSimulating circuit...\n\n\n\tFound 15 in 48/100 shots\n\tAlgorithm took: 6.605199 seconds\n\nAverage time per run: 6.234064\nStandard Deviation: 0.427421\nDone.\n--------------------\n"
        }
      ],
      "source": "print(\"--------------------\")\nprint(\"Appendix B\")\nprint(\"Grover's Quantum Search Algorithm\\n\\n\")\n\n# Qiskit details to choose provider and load account\nprint(\"Loading IBMQ account...\")\nIBMQ.load_account()\nprovider = IBMQ.get_provider(hub='ibm-q')\n    \n# Target that user wishes to find\nN = int(input('Enter 4 bit number: '))\n\n# Initialize variables\ntimes = []\nsums = 0\nruns = int(input(\"How many times to run: \"))\n\n# Runs factoring algorithm a number of times\n# Gets total amount of time\n# Saves individual time per run for later\nfor i in range(runs):\n    print(\"\\n\\n****************\\nRun # %i\" % (i+1))\n    time_to_run = grover(N)\n    sums += time_to_run\n    times.append(time_to_run)\n\n# Average amount of time per run\navg = sums/runs\n# Sum of deviations from average\ndevsum = 0\n\nfor item in times:\n    # Calculates square of each deviation\n    dev = (avg - item)**2\n    # Stores sum of squares\n    devsum += dev\n\n# Gets the square of the average of the deviations\n# Calculates standard deviation\navg_sq = devsum/runs    \nstandard_dev = avg_sq**(1/2) \n\n\nprint(\"\\nAverage time per run: %f\" % (avg))\nprint(\"Standard Deviation: %f\" % standard_dev)\n\nprint(\"Done.\")\nprint(\"--------------------\")\n\n"
    },
    {
      "cell_type": "code",
      "execution_count": null,
      "metadata": {
        "trusted": true
      },
      "outputs": [],
      "source": ""
    }
  ],
  "metadata": {
    "kernelspec": {
      "display_name": "Python 3",
      "language": "python",
      "name": "python3"
    },
    "language_info": {
      "codemirror_mode": {
        "name": "ipython",
        "version": 3
      },
      "file_extension": ".py",
      "mimetype": "text/x-python",
      "name": "python",
      "nbconvert_exporter": "python",
      "pygments_lexer": "ipython3",
      "version": "3.7.8"
    }
  },
  "nbformat": 4,
  "nbformat_minor": 4
}