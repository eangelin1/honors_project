{
  "cells": [
    {
      "cell_type": "code",
      "execution_count": 1,
      "metadata": {
        "trusted": true
      },
      "outputs": [],
      "source": "# Appendix C\n# For a number N, checks for prime factors starting at 2"
    },
    {
      "cell_type": "code",
      "execution_count": 2,
      "metadata": {
        "trusted": true
      },
      "outputs": [],
      "source": "import math\nfrom time import time"
    },
    {
      "cell_type": "code",
      "execution_count": 3,
      "metadata": {
        "trusted": true
      },
      "outputs": [],
      "source": "# Checks if a number is prime\n# Used below to find large primes to multiply together\ndef isPrime(n) : \n\n    # Corner cases \n    if (n <= 1) : \n        return False\n    if (n <= 3) : \n        return True\n\n    # This is checked so that we can skip  \n    # middle five numbers in below loop \n    if (n % 2 == 0 or n % 3 == 0) : \n        return False\n\n    i = 5\n    while(i * i <= n) : \n        if (n % i == 0 or n % (i + 2) == 0) : \n            return False\n        i = i + 6\n\n    return True"
    },
    {
      "cell_type": "code",
      "execution_count": 4,
      "metadata": {
        "trusted": true
      },
      "outputs": [],
      "source": "# Returns the time it takes to factor N using classical methods\ndef factor(N):\n    a = 2\n\n    # Take initial time for comparison later\n    time_i = time()\n\n    # While loop to find factors\n    while True:\n        # Check to see if there is a non-trivial factor between a and N only if a is prime\n        if isPrime(a):\n            factor = math.gcd(a, N)\n            if factor != 1 and factor != N:\n                print(\"\\nFound non-trivial factors: %i and %i\" % (factor, N/factor))\n                break;\n        # increment a\n        a += 1\n\n    time_f = time()\n\n    # Time comparison\n    time_delta = time_f - time_i\n    return time_delta"
    },
    {
      "cell_type": "code",
      "execution_count": 7,
      "metadata": {
        "scrolled": true,
        "trusted": true
      },
      "outputs": [
        {
          "name": "stdout",
          "output_type": "stream",
          "text": "--------------------\nAppendix C\nClassical Factorization\n\n\nEnter N: 21\nHow many times to run: 100\n\n\n****************\nRun # 1\n\nFound non-trivial factors: 3 and 7\n\n\n****************\nRun # 2\n\nFound non-trivial factors: 3 and 7\n\n\n****************\nRun # 3\n\nFound non-trivial factors: 3 and 7\n\n\n****************\nRun # 4\n\nFound non-trivial factors: 3 and 7\n\n\n****************\nRun # 5\n\nFound non-trivial factors: 3 and 7\n\n\n****************\nRun # 6\n\nFound non-trivial factors: 3 and 7\n\n\n****************\nRun # 7\n\nFound non-trivial factors: 3 and 7\n\n\n****************\nRun # 8\n\nFound non-trivial factors: 3 and 7\n\n\n****************\nRun # 9\n\nFound non-trivial factors: 3 and 7\n\n\n****************\nRun # 10\n\nFound non-trivial factors: 3 and 7\n\n\n****************\nRun # 11\n\nFound non-trivial factors: 3 and 7\n\n\n****************\nRun # 12\n\nFound non-trivial factors: 3 and 7\n\n\n****************\nRun # 13\n\nFound non-trivial factors: 3 and 7\n\n\n****************\nRun # 14\n\nFound non-trivial factors: 3 and 7\n\n\n****************\nRun # 15\n\nFound non-trivial factors: 3 and 7\n\n\n****************\nRun # 16\n\nFound non-trivial factors: 3 and 7\n\n\n****************\nRun # 17\n\nFound non-trivial factors: 3 and 7\n\n\n****************\nRun # 18\n\nFound non-trivial factors: 3 and 7\n\n\n****************\nRun # 19\n\nFound non-trivial factors: 3 and 7\n\n\n****************\nRun # 20\n\nFound non-trivial factors: 3 and 7\n\n\n****************\nRun # 21\n\nFound non-trivial factors: 3 and 7\n\n\n****************\nRun # 22\n\nFound non-trivial factors: 3 and 7\n\n\n****************\nRun # 23\n\nFound non-trivial factors: 3 and 7\n\n\n****************\nRun # 24\n\nFound non-trivial factors: 3 and 7\n\n\n****************\nRun # 25\n\nFound non-trivial factors: 3 and 7\n\n\n****************\nRun # 26\n\nFound non-trivial factors: 3 and 7\n\n\n****************\nRun # 27\n\nFound non-trivial factors: 3 and 7\n\n\n****************\nRun # 28\n\nFound non-trivial factors: 3 and 7\n\n\n****************\nRun # 29\n\nFound non-trivial factors: 3 and 7\n\n\n****************\nRun # 30\n\nFound non-trivial factors: 3 and 7\n\n\n****************\nRun # 31\n\nFound non-trivial factors: 3 and 7\n\n\n****************\nRun # 32\n\nFound non-trivial factors: 3 and 7\n\n\n****************\nRun # 33\n\nFound non-trivial factors: 3 and 7\n\n\n****************\nRun # 34\n\nFound non-trivial factors: 3 and 7\n\n\n****************\nRun # 35\n\nFound non-trivial factors: 3 and 7\n\n\n****************\nRun # 36\n\nFound non-trivial factors: 3 and 7\n\n\n****************\nRun # 37\n\nFound non-trivial factors: 3 and 7\n\n\n****************\nRun # 38\n\nFound non-trivial factors: 3 and 7\n\n\n****************\nRun # 39\n\nFound non-trivial factors: 3 and 7\n\n\n****************\nRun # 40\n\nFound non-trivial factors: 3 and 7\n\n\n****************\nRun # 41\n\nFound non-trivial factors: 3 and 7\n\n\n****************\nRun # 42\n\nFound non-trivial factors: 3 and 7\n\n\n****************\nRun # 43\n\nFound non-trivial factors: 3 and 7\n\n\n****************\nRun # 44\n\nFound non-trivial factors: 3 and 7\n\n\n****************\nRun # 45\n\nFound non-trivial factors: 3 and 7\n\n\n****************\nRun # 46\n\nFound non-trivial factors: 3 and 7\n\n\n****************\nRun # 47\n\nFound non-trivial factors: 3 and 7\n\n\n****************\nRun # 48\n\nFound non-trivial factors: 3 and 7\n\n\n****************\nRun # 49\n\nFound non-trivial factors: 3 and 7\n\n\n****************\nRun # 50\n\nFound non-trivial factors: 3 and 7\n\n\n****************\nRun # 51\n\nFound non-trivial factors: 3 and 7\n\n\n****************\nRun # 52\n\nFound non-trivial factors: 3 and 7\n\n\n****************\nRun # 53\n\nFound non-trivial factors: 3 and 7\n\n\n****************\nRun # 54\n\nFound non-trivial factors: 3 and 7\n\n\n****************\nRun # 55\n\nFound non-trivial factors: 3 and 7\n\n\n****************\nRun # 56\n\nFound non-trivial factors: 3 and 7\n\n\n****************\nRun # 57\n\nFound non-trivial factors: 3 and 7\n\n\n****************\nRun # 58\n\nFound non-trivial factors: 3 and 7\n\n\n****************\nRun # 59\n\nFound non-trivial factors: 3 and 7\n\n\n****************\nRun # 60\n\nFound non-trivial factors: 3 and 7\n\n\n****************\nRun # 61\n\nFound non-trivial factors: 3 and 7\n\n\n****************\nRun # 62\n\nFound non-trivial factors: 3 and 7\n\n\n****************\nRun # 63\n\nFound non-trivial factors: 3 and 7\n\n\n****************\nRun # 64\n\nFound non-trivial factors: 3 and 7\n\n\n****************\nRun # 65\n\nFound non-trivial factors: 3 and 7\n\n\n****************\nRun # 66\n\nFound non-trivial factors: 3 and 7\n\n\n****************\nRun # 67\n\nFound non-trivial factors: 3 and 7\n\n\n****************\nRun # 68\n\nFound non-trivial factors: 3 and 7\n\n\n****************\nRun # 69\n\nFound non-trivial factors: 3 and 7\n\n\n****************\nRun # 70\n\nFound non-trivial factors: 3 and 7\n\n\n****************\nRun # 71\n\nFound non-trivial factors: 3 and 7\n\n\n****************\nRun # 72\n\nFound non-trivial factors: 3 and 7\n\n\n****************\nRun # 73\n\nFound non-trivial factors: 3 and 7\n\n\n****************\nRun # 74\n\nFound non-trivial factors: 3 and 7\n\n\n****************\nRun # 75\n\nFound non-trivial factors: 3 and 7\n\n\n****************\nRun # 76\n\nFound non-trivial factors: 3 and 7\n\n\n****************\nRun # 77\n\nFound non-trivial factors: 3 and 7\n\n\n****************\nRun # 78\n\nFound non-trivial factors: 3 and 7\n\n\n****************\nRun # 79\n\nFound non-trivial factors: 3 and 7\n\n\n****************\nRun # 80\n\nFound non-trivial factors: 3 and 7\n\n\n****************\nRun # 81\n\nFound non-trivial factors: 3 and 7\n\n\n****************\nRun # 82\n\nFound non-trivial factors: 3 and 7\n\n\n****************\nRun # 83\n\nFound non-trivial factors: 3 and 7\n\n\n****************\nRun # 84\n\nFound non-trivial factors: 3 and 7\n\n\n****************\nRun # 85\n\nFound non-trivial factors: 3 and 7\n\n\n****************\nRun # 86\n\nFound non-trivial factors: 3 and 7\n\n\n****************\nRun # 87\n\nFound non-trivial factors: 3 and 7\n\n\n****************\nRun # 88\n\nFound non-trivial factors: 3 and 7\n\n\n****************\nRun # 89\n\nFound non-trivial factors: 3 and 7\n\n\n****************\nRun # 90\n\nFound non-trivial factors: 3 and 7\n\n\n****************\nRun # 91\n\nFound non-trivial factors: 3 and 7\n\n\n****************\nRun # 92\n\nFound non-trivial factors: 3 and 7\n\n\n****************\nRun # 93\n\nFound non-trivial factors: 3 and 7\n\n\n****************\nRun # 94\n\nFound non-trivial factors: 3 and 7\n\n\n****************\nRun # 95\n\nFound non-trivial factors: 3 and 7\n\n\n****************\nRun # 96\n\nFound non-trivial factors: 3 and 7\n\n\n****************\nRun # 97\n\nFound non-trivial factors: 3 and 7\n\n\n****************\nRun # 98\n\nFound non-trivial factors: 3 and 7\n\n\n****************\nRun # 99\n\nFound non-trivial factors: 3 and 7\n\n\n****************\nRun # 100\n\nFound non-trivial factors: 3 and 7\n\nAverage time: 0.000016 seconds\nStandard Deviation: 0.000017 seconds\nDone.\n--------------------\n"
        }
      ],
      "source": "# Classical factorization\n# Initialize variables N and a starting at 2 (first non-trivial factor)\nprint(\"--------------------\")\nprint(\"Appendix C\")\nprint(\"Classical Factorization\\n\\n\")\n\n# Initialize variables\nN = int(input(\"Enter N: \"))\nruns = int(input(\"How many times to run: \"))\ntimes = []\nsums = 0\n\n# Runs factoring algorithm a number of times\n# Gets total amount of time\n# Saves individual time per run for later\nfor i in range(runs):\n    print(\"\\n\\n****************\\nRun # %i\" % (i+1))\n    time_to_run = factor(N)\n    sums += time_to_run\n    times.append(time_to_run)\n\n# Average amount of time per run\navg = sums/runs\n# Sum of deviations from average\ndevsum = 0\n\nfor item in times:\n    # Calculates square of each deviation\n    dev = (avg - item)**2\n    # Stores sum of squares\n    devsum += dev\n\n# Gets the square of the average of the deviations\n# Calculates standard deviation\navg_sq = devsum/runs    \nstandard_dev = avg_sq**(1/2) \n\nprint(\"\\nAverage time: %f seconds\" % avg)\nprint(\"Standard Deviation: %f seconds\" % standard_dev)\nprint(\"Done.\")\nprint(\"--------------------\")"
    },
    {
      "cell_type": "code",
      "execution_count": null,
      "metadata": {
        "trusted": true
      },
      "outputs": [],
      "source": ""
    },
    {
      "cell_type": "code",
      "execution_count": null,
      "metadata": {
        "trusted": true
      },
      "outputs": [],
      "source": ""
    }
  ],
  "metadata": {
    "kernelspec": {
      "display_name": "Python 3",
      "language": "python",
      "name": "python3"
    },
    "language_info": {
      "codemirror_mode": {
        "name": "ipython",
        "version": 3
      },
      "file_extension": ".py",
      "mimetype": "text/x-python",
      "name": "python",
      "nbconvert_exporter": "python",
      "pygments_lexer": "ipython3",
      "version": "3.8.6"
    }
  },
  "nbformat": 4,
  "nbformat_minor": 4
}